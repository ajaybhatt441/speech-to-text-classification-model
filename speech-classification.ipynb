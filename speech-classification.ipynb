{
 "cells": [
  {
   "cell_type": "code",
   "execution_count": 5,
   "metadata": {
    "_cell_guid": "b1076dfc-b9ad-4769-8c92-a6c4dae69d19",
    "_uuid": "8f2839f25d086af736a60e9eeb907d3b93b6e0e5"
   },
   "outputs": [],
   "source": [
    "import pandas as pd\n",
    "import numpy as np\n",
    "import matplotlib.pyplot as plt\n",
    "import seaborn as sns\n",
    "\n",
    "import os\n",
    "import librosa   #for audio processing/\n",
    "\n",
    "import IPython.display as ipd\n",
    "import matplotlib.pyplot as plt\n",
    "import numpy as np\n",
    "from scipy.io import wavfile #for audio processing\n",
    "import warnings\n",
    "warnings.filterwarnings(\"ignore\")"
   ]
  },
  {
   "cell_type": "code",
   "execution_count": 6,
   "metadata": {},
   "outputs": [
    {
     "name": "stdout",
     "output_type": "stream",
     "text": [
      "no\n",
      "two\n",
      "four\n",
      "five\n",
      "nine\n",
      "right\n",
      "off\n",
      "yes\n",
      "six\n",
      "dog\n",
      "left\n",
      "bird\n",
      "marvel\n",
      "wow\n",
      "zero\n",
      "eight\n",
      "bed\n",
      "go\n",
      "house\n",
      "tree\n",
      "seven\n",
      "on\n",
      "three\n",
      "one\n",
      "down\n",
      "stop\n",
      "up\n",
      "happy\n",
      "cat\n",
      "sheila\n"
     ]
    }
   ],
   "source": [
    "for i in os.listdir('../input/synthetic-speech-commands-dataset/augmented_dataset/augmented_dataset'):\n",
    "    print(i)\n",
    "train_audio_path = '../input/synthetic-speech-commands-dataset/augmented_dataset/augmented_dataset/bed/1001.wav'\n"
   ]
  },
  {
   "cell_type": "code",
   "execution_count": 1,
   "metadata": {},
   "outputs": [],
   "source": [
    "train_audio_path = '../input/synthetic-speech-commands-dataset/augmented_dataset/augmented_dataset/bed/1001.wav'\n",
    "samples, sample_rate = librosa.load(train_audio_path, sr = 16000)\n",
    "print('samples:{}'.format(samples.shape))\n",
    "print('sample_rate:{}'.format(sample_rate))\n",
    "fig = plt.figure(figsize=(14, 8))\n",
    "ax1 = fig.add_subplot(211)\n",
    "ax1.set_title('Raw wave of ' + '../input/train/audio/yes/0a7c2a8d_nohash_0.wav')\n",
    "ax1.set_xlabel('time')\n",
    "ax1.set_ylabel('Amplitude')\n",
    "ax1.plot(np.linspace(0, sample_rate/len(samples), sample_rate), samples)\n",
    "#"
   ]
  },
  {
   "cell_type": "code",
   "execution_count": 4,
   "metadata": {},
   "outputs": [
    {
     "name": "stdout",
     "output_type": "stream",
     "text": [
      "<IPython.lib.display.Audio object>\n"
     ]
    }
   ],
   "source": [
    "a=ipd.Audio(samples, rate=sample_rate)\n",
    "print(a)"
   ]
  },
  {
   "cell_type": "code",
   "execution_count": 8,
   "metadata": {},
   "outputs": [
    {
     "data": {
      "image/png": "[encoded data removed]",
      "text/plain": [
       "<Figure size 1080x504 with 1 Axes>"
      ]
     },
     "metadata": {
      "needs_background": "light"
     },
     "output_type": "display_data"
    }
   ],
   "source": [
    "\n",
    "plt.rcParams['figure.figsize']=(15,7)\n",
    "train_loc='../input/synthetic-speech-commands-dataset/augmented_dataset/augmented_dataset'\n",
    "labels=os.listdir(train_loc)\n",
    "labels\n",
    "count_lis=[len(os.listdir(train_loc+'/{}'.format(i))) for i in labels]\n",
    "index=np.arange(0,len(count_lis))\n",
    "plt.bar(index,count_lis)\n",
    "plt.xticks(index,labels,rotation=60)\n",
    "plt.show()\n",
    "\n",
    "\n",
    "\n",
    "            \n",
    "    \n",
    "    \n",
    "    "
   ]
  },
  {
   "cell_type": "code",
   "execution_count": 19,
   "metadata": {},
   "outputs": [
    {
     "data": {
      "text/plain": [
       "(array([    0.,     0.,     0.,     0.,     0., 41849.,     0.,     0.,\n",
       "            0.,     0.]),\n",
       " array([0.5, 0.6, 0.7, 0.8, 0.9, 1. , 1.1, 1.2, 1.3, 1.4, 1.5]),\n",
       " <BarContainer object of 10 artists>)"
      ]
     },
     "execution_count": 19,
     "metadata": {},
     "output_type": "execute_result"
    },
    {
     "data": {
      "image/png": "[encoded data removed]",
      "text/plain": [
       "<Figure size 1080x504 with 1 Axes>"
      ]
     },
     "metadata": {
      "needs_background": "light"
     },
     "output_type": "display_data"
    }
   ],
   "source": [
    "\n",
    "duration_of_recordings=[]\n",
    "for label in labels:\n",
    "    waves = [f for f in os.listdir(train_loc + '/'+ label) if f.endswith('.wav')]\n",
    "    for wav in waves:\n",
    "        sample_rate, samples = wavfile.read(train_loc + '/' + label + '/' + wav)\n",
    "        duration_of_recordings.append(float(len(samples)/sample_rate))\n",
    "    \n",
    "plt.hist(np.array(duration_of_recordings))"
   ]
  },
  {
   "cell_type": "code",
   "execution_count": 24,
   "metadata": {},
   "outputs": [],
   "source": [
    "# In the data exploration part earlier, we have seen that the duration of a few recordings\n",
    "# is less than 1 second and the sampling rate is too high. So, let us read the audio waves and \n",
    "# use the below-preprocessing steps to deal with this.\n",
    "\n",
    "# Here are the two steps we’ll follow:\n",
    "\n",
    "# Resampling\n",
    "# Removing shorter commands of less than 1 second"
   ]
  },
  {
   "cell_type": "code",
   "execution_count": 9,
   "metadata": {},
   "outputs": [
    {
     "name": "stdout",
     "output_type": "stream",
     "text": [
      "no\n",
      "two\n",
      "four\n",
      "five\n",
      "nine\n",
      "right\n",
      "off\n",
      "yes\n",
      "six\n",
      "dog\n",
      "left\n",
      "bird\n",
      "marvel\n",
      "wow\n",
      "zero\n",
      "eight\n",
      "bed\n",
      "go\n",
      "house\n",
      "tree\n",
      "seven\n",
      "on\n",
      "three\n",
      "one\n",
      "down\n",
      "stop\n",
      "up\n",
      "happy\n",
      "cat\n",
      "sheila\n"
     ]
    }
   ],
   "source": [
    "all_wave = []\n",
    "all_label = []\n",
    "for label in labels:\n",
    "    print(label)\n",
    "    waves = [f for f in os.listdir(train_loc + '/'+ label) if f.endswith('.wav')]\n",
    "    for wav in waves:\n",
    "        samples, sample_rate = librosa.load(train_loc + '/' + label + '/' + wav, sr = 8000)\n",
    "        #samples = librosa.resample(samples, sample_rate, 8000)\n",
    "        if(len(samples)== 8000) : \n",
    "            all_wave.append(samples)\n",
    "            all_label.append(label)"
   ]
  },
  {
   "cell_type": "code",
   "execution_count": 11,
   "metadata": {},
   "outputs": [
    {
     "name": "stdout",
     "output_type": "stream",
     "text": [
      "(41849,)\n"
     ]
    }
   ],
   "source": [
    "from sklearn.preprocessing import LabelEncoder\n",
    "from keras.utils import np_utils\n",
    "\n",
    "le=LabelEncoder()\n",
    "y=le.fit_transform(all_label)\n",
    "print(y.shape)\n",
    "classes=list(le.classes_)\n",
    "y1=np_utils.to_categorical(y, num_classes=len(labels))\n"
   ]
  },
  {
   "cell_type": "code",
   "execution_count": 17,
   "metadata": {},
   "outputs": [
    {
     "data": {
      "text/plain": [
       "(41849, 30)"
      ]
     },
     "execution_count": 17,
     "metadata": {},
     "output_type": "execute_result"
    }
   ],
   "source": [
    "y1.shape"
   ]
  },
  {
   "cell_type": "code",
   "execution_count": 26,
   "metadata": {},
   "outputs": [],
   "source": [
    "from sklearn.model_selection import train_test_split\n",
    "X_train,X_test,y_train,y_test=train_test_split(np.array(all_wave).reshape(-1,8000,1),np.array(y1),test_size=0.2,shuffle=True)"
   ]
  },
  {
   "cell_type": "code",
   "execution_count": 22,
   "metadata": {},
   "outputs": [],
   "source": [
    "from tensorflow.keras.layers import Input,Dense,Flatten,Conv1D,MaxPooling1D,Dropout\n",
    "from tensorflow.keras.models import Model\n",
    "from tensorflow.keras.callbacks import EarlyStopping,ModelCheckpoint"
   ]
  },
  {
   "cell_type": "code",
   "execution_count": 23,
   "metadata": {},
   "outputs": [
    {
     "name": "stdout",
     "output_type": "stream",
     "text": [
      "Model: \"model\"\n",
      "_________________________________________________________________\n",
      "Layer (type)                 Output Shape              Param #   \n",
      "=================================================================\n",
      "input_1 (InputLayer)         [(None, 8000, 1)]         0         \n",
      "_________________________________________________________________\n",
      "conv1d (Conv1D)              (None, 7988, 8)           112       \n",
      "_________________________________________________________________\n",
      "max_pooling1d (MaxPooling1D) (None, 2662, 8)           0         \n",
      "_________________________________________________________________\n",
      "dropout (Dropout)            (None, 2662, 8)           0         \n",
      "_________________________________________________________________\n",
      "conv1d_1 (Conv1D)            (None, 2652, 16)          1424      \n",
      "_________________________________________________________________\n",
      "max_pooling1d_1 (MaxPooling1 (None, 884, 16)           0         \n",
      "_________________________________________________________________\n",
      "dropout_1 (Dropout)          (None, 884, 16)           0         \n",
      "_________________________________________________________________\n",
      "conv1d_2 (Conv1D)            (None, 876, 32)           4640      \n",
      "_________________________________________________________________\n",
      "max_pooling1d_2 (MaxPooling1 (None, 292, 32)           0         \n",
      "_________________________________________________________________\n",
      "dropout_2 (Dropout)          (None, 292, 32)           0         \n",
      "_________________________________________________________________\n",
      "conv1d_3 (Conv1D)            (None, 286, 64)           14400     \n",
      "_________________________________________________________________\n",
      "max_pooling1d_3 (MaxPooling1 (None, 95, 64)            0         \n",
      "_________________________________________________________________\n",
      "dropout_3 (Dropout)          (None, 95, 64)            0         \n",
      "_________________________________________________________________\n",
      "flatten (Flatten)            (None, 6080)              0         \n",
      "_________________________________________________________________\n",
      "dense (Dense)                (None, 256)               1556736   \n",
      "_________________________________________________________________\n",
      "dropout_4 (Dropout)          (None, 256)               0         \n",
      "_________________________________________________________________\n",
      "dense_1 (Dense)              (None, 128)               32896     \n",
      "_________________________________________________________________\n",
      "dropout_5 (Dropout)          (None, 128)               0         \n",
      "_________________________________________________________________\n",
      "dense_2 (Dense)              (None, 30)                3870      \n",
      "=================================================================\n",
      "Total params: 1,614,078\n",
      "Trainable params: 1,614,078\n",
      "Non-trainable params: 0\n",
      "_________________________________________________________________\n"
     ]
    }
   ],
   "source": [
    "inputs=Input(shape=(8000,1))\n",
    "\n",
    "#First Conv1D layer\n",
    "conv = Conv1D(8,13, padding='valid', activation='relu', strides=1)(inputs)\n",
    "conv = MaxPooling1D(3)(conv)\n",
    "conv = Dropout(0.3)(conv)\n",
    "\n",
    "#Second Conv1D layer\n",
    "conv = Conv1D(16, 11, padding='valid', activation='relu', strides=1)(conv)\n",
    "conv = MaxPooling1D(3)(conv)\n",
    "conv = Dropout(0.3)(conv)\n",
    "\n",
    "#Third Conv1D layer\n",
    "conv = Conv1D(32, 9, padding='valid', activation='relu', strides=1)(conv)\n",
    "conv = MaxPooling1D(3)(conv)\n",
    "conv = Dropout(0.3)(conv)\n",
    "\n",
    "#Fourth Conv1D layer\n",
    "conv = Conv1D(64, 7, padding='valid', activation='relu', strides=1)(conv)\n",
    "conv = MaxPooling1D(3)(conv)\n",
    "conv = Dropout(0.3)(conv)\n",
    "\n",
    "#Flatten layer\n",
    "conv = Flatten()(conv)\n",
    "\n",
    "#Dense Layer 1\n",
    "conv = Dense(256, activation='relu')(conv)\n",
    "conv = Dropout(0.3)(conv)\n",
    "\n",
    "#Dense Layer 2\n",
    "conv = Dense(128, activation='relu')(conv)\n",
    "conv = Dropout(0.3)(conv)\n",
    "\n",
    "outputs = Dense(len(labels), activation='softmax')(conv)\n",
    "\n",
    "model = Model(inputs, outputs)\n",
    "model.summary()"
   ]
  },
  {
   "cell_type": "code",
   "execution_count": 24,
   "metadata": {},
   "outputs": [],
   "source": [
    "model.compile(loss='categorical_crossentropy',optimizer='adam',metrics=['accuracy'])"
   ]
  },
  {
   "cell_type": "code",
   "execution_count": 25,
   "metadata": {},
   "outputs": [],
   "source": [
    "es = EarlyStopping(monitor='val_loss', mode='min', verbose=1, patience=10, min_delta=0.0001) \n",
    "mc = ModelCheckpoint('best_model.hdf5', monitor='val_acc', verbose=1, save_best_only=True, mode='max')"
   ]
  },
  {
   "cell_type": "code",
   "execution_count": 27,
   "metadata": {},
   "outputs": [
    {
     "name": "stdout",
     "output_type": "stream",
     "text": [
      "Epoch 1/50\n",
      "1047/1047 [==============================] - 11s 7ms/step - loss: 2.8612 - accuracy: 0.1788 - val_loss: 1.3275 - val_accuracy: 0.5823\n",
      "Epoch 2/50\n",
      "1047/1047 [==============================] - 7s 7ms/step - loss: 1.4202 - accuracy: 0.5349 - val_loss: 0.8865 - val_accuracy: 0.7171\n",
      "Epoch 3/50\n",
      "1047/1047 [==============================] - 7s 7ms/step - loss: 1.0825 - accuracy: 0.6319 - val_loss: 0.7100 - val_accuracy: 0.7846\n",
      "Epoch 4/50\n",
      "1047/1047 [==============================] - 8s 7ms/step - loss: 0.8907 - accuracy: 0.6992 - val_loss: 0.6064 - val_accuracy: 0.8043\n",
      "Epoch 5/50\n",
      "1047/1047 [==============================] - 7s 7ms/step - loss: 0.7598 - accuracy: 0.7459 - val_loss: 0.4708 - val_accuracy: 0.8489\n",
      "Epoch 6/50\n",
      "1047/1047 [==============================] - 7s 7ms/step - loss: 0.6693 - accuracy: 0.7765 - val_loss: 0.4360 - val_accuracy: 0.8654\n",
      "Epoch 7/50\n",
      "1047/1047 [==============================] - 7s 7ms/step - loss: 0.5983 - accuracy: 0.7980 - val_loss: 0.3784 - val_accuracy: 0.8841\n",
      "Epoch 8/50\n",
      "1047/1047 [==============================] - 8s 7ms/step - loss: 0.5431 - accuracy: 0.8202 - val_loss: 0.3798 - val_accuracy: 0.8797\n",
      "Epoch 9/50\n",
      "1047/1047 [==============================] - 7s 7ms/step - loss: 0.4949 - accuracy: 0.8362 - val_loss: 0.3099 - val_accuracy: 0.9017\n",
      "Epoch 10/50\n",
      "1047/1047 [==============================] - 7s 7ms/step - loss: 0.4729 - accuracy: 0.8399 - val_loss: 0.3058 - val_accuracy: 0.9005\n",
      "Epoch 11/50\n",
      "1047/1047 [==============================] - 7s 7ms/step - loss: 0.4348 - accuracy: 0.8540 - val_loss: 0.2789 - val_accuracy: 0.9183\n",
      "Epoch 12/50\n",
      "1047/1047 [==============================] - 7s 7ms/step - loss: 0.4111 - accuracy: 0.8620 - val_loss: 0.2777 - val_accuracy: 0.9170\n",
      "Epoch 13/50\n",
      "1047/1047 [==============================] - 7s 7ms/step - loss: 0.3959 - accuracy: 0.8680 - val_loss: 0.2508 - val_accuracy: 0.9197\n",
      "Epoch 14/50\n",
      "1047/1047 [==============================] - 7s 7ms/step - loss: 0.3712 - accuracy: 0.8767 - val_loss: 0.2509 - val_accuracy: 0.9183\n",
      "Epoch 15/50\n",
      "1047/1047 [==============================] - 7s 7ms/step - loss: 0.3584 - accuracy: 0.8817 - val_loss: 0.2474 - val_accuracy: 0.9233\n",
      "Epoch 16/50\n",
      "1047/1047 [==============================] - 7s 7ms/step - loss: 0.3445 - accuracy: 0.8834 - val_loss: 0.2317 - val_accuracy: 0.9250\n",
      "Epoch 17/50\n",
      "1047/1047 [==============================] - 8s 7ms/step - loss: 0.3333 - accuracy: 0.8918 - val_loss: 0.2142 - val_accuracy: 0.9342\n",
      "Epoch 18/50\n",
      "1047/1047 [==============================] - 7s 7ms/step - loss: 0.3119 - accuracy: 0.9003 - val_loss: 0.2062 - val_accuracy: 0.9366\n",
      "Epoch 19/50\n",
      "1047/1047 [==============================] - 7s 7ms/step - loss: 0.3096 - accuracy: 0.8981 - val_loss: 0.1888 - val_accuracy: 0.9427\n",
      "Epoch 20/50\n",
      "1047/1047 [==============================] - 7s 7ms/step - loss: 0.3089 - accuracy: 0.9005 - val_loss: 0.1942 - val_accuracy: 0.9397\n",
      "Epoch 21/50\n",
      "1047/1047 [==============================] - 7s 7ms/step - loss: 0.2859 - accuracy: 0.9070 - val_loss: 0.2131 - val_accuracy: 0.9358\n",
      "Epoch 22/50\n",
      "1047/1047 [==============================] - 7s 7ms/step - loss: 0.2805 - accuracy: 0.9089 - val_loss: 0.1835 - val_accuracy: 0.9466\n",
      "Epoch 23/50\n",
      "1047/1047 [==============================] - 7s 7ms/step - loss: 0.2786 - accuracy: 0.9076 - val_loss: 0.1884 - val_accuracy: 0.9442\n",
      "Epoch 24/50\n",
      "1047/1047 [==============================] - 7s 7ms/step - loss: 0.2643 - accuracy: 0.9139 - val_loss: 0.1933 - val_accuracy: 0.9423\n",
      "Epoch 25/50\n",
      "1047/1047 [==============================] - 8s 7ms/step - loss: 0.2609 - accuracy: 0.9152 - val_loss: 0.2161 - val_accuracy: 0.9303\n",
      "Epoch 26/50\n",
      "1047/1047 [==============================] - 7s 7ms/step - loss: 0.2658 - accuracy: 0.9138 - val_loss: 0.1681 - val_accuracy: 0.9484\n",
      "Epoch 27/50\n",
      "1047/1047 [==============================] - 7s 7ms/step - loss: 0.2601 - accuracy: 0.9165 - val_loss: 0.1975 - val_accuracy: 0.9401\n",
      "Epoch 28/50\n",
      "1047/1047 [==============================] - 7s 7ms/step - loss: 0.2531 - accuracy: 0.9192 - val_loss: 0.1859 - val_accuracy: 0.9481\n",
      "Epoch 29/50\n",
      "1047/1047 [==============================] - 7s 7ms/step - loss: 0.2464 - accuracy: 0.9216 - val_loss: 0.1797 - val_accuracy: 0.9449\n",
      "Epoch 30/50\n",
      "1047/1047 [==============================] - 8s 7ms/step - loss: 0.2366 - accuracy: 0.9238 - val_loss: 0.1970 - val_accuracy: 0.9410\n",
      "Epoch 31/50\n",
      "1047/1047 [==============================] - 7s 7ms/step - loss: 0.2328 - accuracy: 0.9266 - val_loss: 0.1719 - val_accuracy: 0.9473\n",
      "Epoch 32/50\n",
      "1047/1047 [==============================] - 7s 7ms/step - loss: 0.2478 - accuracy: 0.9227 - val_loss: 0.1693 - val_accuracy: 0.9486\n",
      "Epoch 33/50\n",
      "1047/1047 [==============================] - 7s 7ms/step - loss: 0.2270 - accuracy: 0.9264 - val_loss: 0.1674 - val_accuracy: 0.9474\n",
      "Epoch 34/50\n",
      "1047/1047 [==============================] - 8s 7ms/step - loss: 0.2320 - accuracy: 0.9267 - val_loss: 0.1644 - val_accuracy: 0.9517\n",
      "Epoch 35/50\n",
      "1047/1047 [==============================] - 7s 7ms/step - loss: 0.2183 - accuracy: 0.9302 - val_loss: 0.1574 - val_accuracy: 0.9520\n",
      "Epoch 36/50\n",
      "1047/1047 [==============================] - 7s 7ms/step - loss: 0.2192 - accuracy: 0.9299 - val_loss: 0.1813 - val_accuracy: 0.9480\n",
      "Epoch 37/50\n",
      "1047/1047 [==============================] - 7s 7ms/step - loss: 0.2115 - accuracy: 0.9322 - val_loss: 0.1667 - val_accuracy: 0.9521\n",
      "Epoch 38/50\n",
      "1047/1047 [==============================] - 8s 7ms/step - loss: 0.2215 - accuracy: 0.9298 - val_loss: 0.1694 - val_accuracy: 0.9474\n",
      "Epoch 39/50\n",
      "1047/1047 [==============================] - 7s 7ms/step - loss: 0.2144 - accuracy: 0.9344 - val_loss: 0.1956 - val_accuracy: 0.9437\n",
      "Epoch 40/50\n",
      "1047/1047 [==============================] - 7s 7ms/step - loss: 0.2048 - accuracy: 0.9364 - val_loss: 0.1802 - val_accuracy: 0.9454\n",
      "Epoch 41/50\n",
      "1047/1047 [==============================] - 7s 7ms/step - loss: 0.2037 - accuracy: 0.9352 - val_loss: 0.1622 - val_accuracy: 0.9493\n",
      "Epoch 42/50\n",
      "1047/1047 [==============================] - 7s 7ms/step - loss: 0.1992 - accuracy: 0.9369 - val_loss: 0.1384 - val_accuracy: 0.9594\n",
      "Epoch 43/50\n",
      "1047/1047 [==============================] - 8s 7ms/step - loss: 0.2272 - accuracy: 0.9290 - val_loss: 0.1713 - val_accuracy: 0.9510\n",
      "Epoch 44/50\n",
      "1047/1047 [==============================] - 7s 7ms/step - loss: 0.2089 - accuracy: 0.9359 - val_loss: 0.1553 - val_accuracy: 0.9519\n",
      "Epoch 45/50\n",
      "1047/1047 [==============================] - 7s 7ms/step - loss: 0.1923 - accuracy: 0.9387 - val_loss: 0.1550 - val_accuracy: 0.9563\n",
      "Epoch 46/50\n",
      "1047/1047 [==============================] - 7s 7ms/step - loss: 0.1972 - accuracy: 0.9362 - val_loss: 0.1579 - val_accuracy: 0.9493\n",
      "Epoch 47/50\n",
      "1047/1047 [==============================] - 8s 7ms/step - loss: 0.1983 - accuracy: 0.9400 - val_loss: 0.1532 - val_accuracy: 0.9528\n",
      "Epoch 48/50\n",
      "1047/1047 [==============================] - 7s 7ms/step - loss: 0.1894 - accuracy: 0.9390 - val_loss: 0.1482 - val_accuracy: 0.9553\n",
      "Epoch 49/50\n",
      "1047/1047 [==============================] - 7s 7ms/step - loss: 0.1878 - accuracy: 0.9413 - val_loss: 0.1730 - val_accuracy: 0.9474\n",
      "Epoch 50/50\n",
      "1047/1047 [==============================] - 7s 7ms/step - loss: 0.2044 - accuracy: 0.9361 - val_loss: 0.1616 - val_accuracy: 0.9498\n"
     ]
    }
   ],
   "source": [
    "history=model.fit(X_train, y_train ,epochs=50, callbacks=[es,mc], batch_size=32, validation_data=(X_test,y_test))"
   ]
  },
  {
   "cell_type": "code",
   "execution_count": 29,
   "metadata": {},
   "outputs": [
    {
     "data": {
      "image/png": "[encoded data removed]",
      "text/plain": [
       "<Figure size 1080x504 with 1 Axes>"
      ]
     },
     "metadata": {
      "needs_background": "light"
     },
     "output_type": "display_data"
    }
   ],
   "source": [
    "plt.plot(history.history['loss'], label='train_loss') \n",
    "plt.plot(history.history['val_loss'], label='test_loss') \n",
    "plt.plot(history.history['accuracy'], label='train_acc') \n",
    "plt.plot(history.history['val_accuracy'], label='test_acc')\n",
    "plt.legend() \n",
    "plt.show()"
   ]
  },
  {
   "cell_type": "code",
   "execution_count": null,
   "metadata": {},
   "outputs": [],
   "source": [
    "## function to predict text\n",
    "def predict(audio):\n",
    "    prob=model.predict(audio.reshape(1,8000,1))\n",
    "    index=np.argmax(prob[0])\n",
    "    return classes[index]\n",
    "import random\n",
    "index=random.randint(0,len(X_test)-1)\n",
    "samples=X_test[index].ravel()\n",
    "print(\"Audio:\",classes[np.argmax(y_test[index])])\n",
    "a=ipd.Audio(samples, rate=8000)\n",
    "a\n",
    "print(\"Text:\",predict(samples))"
   ]
  }
 ],
 "metadata": {
  "kernelspec": {
   "display_name": "Python 3",
   "language": "python",
   "name": "python3"
  },
  "language_info": {
   "codemirror_mode": {
    "name": "ipython",
    "version": 3
   },
   "file_extension": ".py",
   "mimetype": "text/x-python",
   "name": "python",
   "nbconvert_exporter": "python",
   "pygments_lexer": "ipython3",
   "version": "3.7.1"
  }
 },
 "nbformat": 4,
 "nbformat_minor": 4
}
